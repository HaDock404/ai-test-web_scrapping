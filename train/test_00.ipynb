{
 "cells": [
  {
   "cell_type": "markdown",
   "metadata": {},
   "source": [
    "# WebScrapping"
   ]
  },
  {
   "cell_type": "markdown",
   "metadata": {},
   "source": [
    "Selenium est une bibliothèque Python et un outil utilisé pour automatiser les navigateurs Web afin d'effectuer un certain nombre de tâches. L’un d’entre eux est le web-scraping pour extraire des données et des informations utiles qui autrement ne seraient pas disponibles. Voici un guide étape par étape sur la façon d'utiliser Selenium, l'exemple étant l'extraction des données sur les salaires des joueurs NBA du site Web [hoopshype](https://hoopshype.com/salaries/players/)"
   ]
  },
  {
   "cell_type": "markdown",
   "metadata": {},
   "source": [
    "### Etape 1 : Installation de Selenium et importation des bibliothèques"
   ]
  },
  {
   "cell_type": "code",
   "execution_count": 16,
   "metadata": {},
   "outputs": [],
   "source": [
    "#!pip install selenium\n",
    "\n",
    "from selenium import webdriver\n",
    "from selenium.webdriver.common.keys import Keys\n",
    "from selenium.webdriver.chrome.service import Service\n",
    "from selenium.webdriver.chrome.options import Options\n",
    "from selenium.webdriver.common.by import By\n",
    "import pandas as pd"
   ]
  },
  {
   "cell_type": "markdown",
   "metadata": {},
   "source": [
    "### Etape 2 : Installer et accéder à Webdriver"
   ]
  },
  {
   "cell_type": "markdown",
   "metadata": {},
   "source": [
    "Un Webdriver est un ingrédient essentiel de ce processus. C’est ce qui ouvrira automatiquement votre navigateur pour accéder au site Web de votre choix.  \n",
    "Cette étape est différente selon le navigateur que vous utilisez pour explorer Internet. Il se trouve que j'utilise Google Chrome. Certains disent que Chrome fonctionne mieux avec Selenium, bien qu'il prenne également en charge Internet Explorer, Firefox, Safari et Opera.  \n",
    "Pour Chrome, vous devez d'abord télécharger le pilote Web sur [chromedriver](https://chromedriver.chromium.org/downloads).  \n",
    "Il existe plusieurs options de téléchargement différentes en fonction de votre version de Chrome. Pour localiser la version de Chrome dont vous disposez, cliquez sur les 3 points verticaux dans le coin supérieur droit de la fenêtre de votre navigateur, faites défiler vers le bas pour obtenir de l'aide et sélectionnez « À propos de Google Chrome ». Là, vous verrez votre version. "
   ]
  },
  {
   "cell_type": "markdown",
   "metadata": {},
   "source": [
    "Vous devez maintenant savoir où vous avez enregistré le téléchargement de votre pilote Web sur votre ordinateur local.  \n",
    "Le mien vient d'être enregistré dans mon dossier de téléchargements par défaut que je vais déplacer dans ce projet. Vous pouvez maintenant créer une variable de pilote en utilisant le chemin direct de l'emplacement de votre pilote Web téléchargé."
   ]
  },
  {
   "cell_type": "markdown",
   "metadata": {},
   "source": [
    "**Il faut autoriser l'ordinateur à ouvrir un logiciel externe. Chez Apple il faut se rendre dans Confidentialité et Sécurité défiler vers le bas et Autoriser l'utilisation du logiciel.**"
   ]
  },
  {
   "cell_type": "code",
   "execution_count": 12,
   "metadata": {},
   "outputs": [],
   "source": [
    "chromedriver_path = '../chromedriver-mac-x64/chromedriver'\n",
    "\n",
    "# Set up the ChromeDriver service\n",
    "service = Service(executable_path=chromedriver_path)\n",
    "\n",
    "# Set up Chrome options\n",
    "options = Options()\n",
    "# Uncomment the following line if you need headless mode\n",
    "# options.add_argument('--headless') \n",
    "\n",
    "# Initialize the WebDriver with service and options\n",
    "driver = webdriver.Chrome(service=service, options=options)"
   ]
  },
  {
   "cell_type": "markdown",
   "metadata": {},
   "source": [
    "## Etape 3 : Accéder au site Web via Python"
   ]
  },
  {
   "cell_type": "markdown",
   "metadata": {},
   "source": [
    "Étape très simple mais très importante. Vous avez besoin de votre code pour ouvrir le site Web que vous essayez de scrapper."
   ]
  },
  {
   "cell_type": "code",
   "execution_count": 13,
   "metadata": {},
   "outputs": [],
   "source": [
    "driver.get('https://hoopshype.com/salaries/players/')"
   ]
  },
  {
   "cell_type": "markdown",
   "metadata": {},
   "source": [
    "Une fois exécuté, cet extrait de code ouvrira le navigateur sur le site Web de votre choix."
   ]
  },
  {
   "cell_type": "markdown",
   "metadata": {},
   "source": [
    "## Etape 4 : Localisez les informations spécifiques que vous récupérez"
   ]
  },
  {
   "cell_type": "markdown",
   "metadata": {},
   "source": [
    "Afin d’extraire les informations que vous souhaitez récupérer, vous devez localiser le XPath de l’élément.  \n",
    "**Un XPath est une syntaxe utilisée pour rechercher n'importe quel élément sur une page Web.**  \n",
    "Pour localiser le XPath de l'élément, mettez en surbrillance le premier dans la liste de ce que vous recherchez, faites un clic droit et sélectionnez inspecter ; cela ouvre les outils de développement.  \n",
    "  \n",
    "Pour mon exemple, je souhaite d’abord localiser les noms des joueurs NBA, je sélectionne donc d’abord Stephen Curry."
   ]
  },
  {
   "cell_type": "markdown",
   "metadata": {},
   "source": [
    "![image](./documentation/image_00.png)"
   ]
  },
  {
   "cell_type": "markdown",
   "metadata": {},
   "source": [
    "Dans les outils de développement, on voit désormais l’élément « Stephen Curry » apparaître comme tel."
   ]
  },
  {
   "cell_type": "markdown",
   "metadata": {},
   "source": [
    "![image2](./documentation/image_01.png)"
   ]
  },
  {
   "cell_type": "markdown",
   "metadata": {},
   "source": [
    "Cet élément peut facilement être traduit en son XPath, mais d’abord, nous devons nous rappeler que nous n’essayons pas seulement de localiser cet élément, mais tous les noms de joueurs."
   ]
  },
  {
   "cell_type": "markdown",
   "metadata": {},
   "source": [
    "Le point commun entre le nom des joueurs est **\\<td class=\"name\">**, c'est donc ce que nous utiliserons pour créer une liste de tous les noms de joueurs.  \n",
    "  \n",
    "Cela traduit en XPath ressemble à **//td\\[@class=\"name\"]**.  \n",
    "  \n",
    "En décomposant cela, tous les XPaths sont précédés de la double barre oblique, que nous voulons dans une balise td, chaque classe de cette balise td devant correspondre à « nom ». Nous pouvons maintenant créer la liste des noms de joueurs avec cette fonction Selenium."
   ]
  },
  {
   "cell_type": "code",
   "execution_count": 17,
   "metadata": {},
   "outputs": [],
   "source": [
    "players = driver.find_elements(By.XPATH, '//td[@class=\"name\"]')"
   ]
  },
  {
   "cell_type": "markdown",
   "metadata": {},
   "source": [
    "Et maintenant, pour mettre le texte de chaque nom de joueur dans une liste, nous écrivons cette fonction."
   ]
  },
  {
   "cell_type": "code",
   "execution_count": 18,
   "metadata": {},
   "outputs": [],
   "source": [
    "players_list = []\n",
    "for p in range(len(players)):\n",
    "\tplayers_list.append(players[p].text)"
   ]
  },
  {
   "cell_type": "markdown",
   "metadata": {},
   "source": [
    "Lors de l'inspection de ces éléments et de la traduction vers XPath, nous pouvons ignorer le style et la valeur des données, en nous souciant uniquement de la classe."
   ]
  },
  {
   "cell_type": "code",
   "execution_count": 19,
   "metadata": {},
   "outputs": [],
   "source": [
    "salaries = driver.find_elements(By.XPATH, '//td[@class=\"hh-salaries-sorted\"]')"
   ]
  },
  {
   "cell_type": "markdown",
   "metadata": {},
   "source": [
    "Et le texte de la liste des salaires…"
   ]
  },
  {
   "cell_type": "code",
   "execution_count": 20,
   "metadata": {},
   "outputs": [],
   "source": [
    "salaries_list = []\n",
    "for s in range(len(salaries)):\n",
    "\tsalaries_list.append(salaries[s].text)"
   ]
  },
  {
   "cell_type": "markdown",
   "metadata": {},
   "source": [
    "## Etape 5 : Appliquez pour chaque année disponible et liez le tout ensemble"
   ]
  },
  {
   "cell_type": "markdown",
   "metadata": {},
   "source": [
    "Souvent, lorsque vous utilisez Selenium, vous tenterez de récupérer des données situées sur plusieurs pages différentes du même site Web. Dans mon exemple, [hoopshype](hoopshype.com) dispose de données sur les salaires de la NBA remontant à la saison 1990/91."
   ]
  },
  {
   "cell_type": "markdown",
   "metadata": {},
   "source": [
    "![image3](./documentation/image_02.png)"
   ]
  },
  {
   "cell_type": "markdown",
   "metadata": {},
   "source": [
    "![image4](./documentation/image_03.png)"
   ]
  },
  {
   "cell_type": "markdown",
   "metadata": {},
   "source": [
    "Comme vous pouvez le constater, la différence entre l'URL de chaque saison est simplement une question d'années incluses à la fin. Ainsi, l'URL de la saison 2018/19 est **https://hoopshype.com/salaries/players/2018-2019/** et l'URL de la saison 1990/91 est **https://hoopshype.com/salaries/players/1990- 1991/**. Avec cela, nous pouvons créer une fonction qui parcourt chaque année et accède à chaque URL individuellement, puis regroupe toutes les étapes que nous avons précédemment présentées pour chaque année individuellement. J'associe également chaque joueur à son salaire pour cette saison, je le place dans une trame de données temporaire, j'ajoute l'année à cette trame de données temporaire, puis j'ajoute cette trame de données temporaire à une trame de données principale qui inclut toutes les données que nous avons acquises. Le code final est ci-dessous !"
   ]
  },
  {
   "cell_type": "code",
   "execution_count": 23,
   "metadata": {},
   "outputs": [],
   "source": [
    "import pandas as pd\n",
    "from selenium import webdriver\n",
    "from selenium.webdriver.chrome.service import Service\n",
    "from selenium.webdriver.chrome.options import Options\n",
    "from selenium.webdriver.common.by import By\n",
    "\n",
    "# Crée le DataFrame maître\n",
    "df = pd.DataFrame(columns=['Player', 'Salary', 'Year'])\n",
    "\n",
    "chromedriver_path = '../chromedriver-mac-x64/chromedriver'\n",
    "service = Service(executable_path=chromedriver_path)\n",
    "options = Options()\n",
    "driver = webdriver.Chrome(service=service, options=options)\n",
    "\n",
    "for yr in range(1990, 2019):\n",
    "    page_num = str(yr) + '-' + str(yr + 1) + '/'\n",
    "    url = 'https://hoopshype.com/salaries/players/' + page_num\n",
    "    driver.get(url)\n",
    "\n",
    "    players = driver.find_elements(By.XPATH, '//td[@class=\"name\"]')\n",
    "    salaries = driver.find_elements(By.XPATH, '//td[@class=\"hh-salaries-sorted\"]')\n",
    "\n",
    "    players_list = []\n",
    "    for p in range(len(players)):\n",
    "        players_list.append(players[p].text)\n",
    "\n",
    "    salaries_list = []\n",
    "    for s in range(len(salaries)):\n",
    "        salaries_list.append(salaries[s].text)\n",
    "\n",
    "    # Liste des tuples contenant le nom et le salaire de chaque joueur\n",
    "    data_tuples = list(zip(players_list[1:], salaries_list[1:]))\n",
    "    # Crée un DataFrame temporaire pour les données de l'année en cours\n",
    "    temp_df = pd.DataFrame(data_tuples, columns=['Player', 'Salary'])\n",
    "    temp_df['Year'] = yr\n",
    "\n",
    "    df = pd.concat([df, temp_df], ignore_index=True)\n",
    "\n",
    "driver.close()\n"
   ]
  },
  {
   "cell_type": "code",
   "execution_count": 24,
   "metadata": {},
   "outputs": [
    {
     "name": "stdout",
     "output_type": "stream",
     "text": [
      "             Player      Salary  Year\n",
      "0     Patrick Ewing  $4,250,000  1990\n",
      "1  Hot Rod Williams  $3,785,000  1990\n",
      "2   Hakeem Olajuwon  $3,175,000  1990\n",
      "3   Charles Barkley  $2,900,000  1990\n",
      "4      Chris Mullin  $2,850,000  1990\n"
     ]
    }
   ],
   "source": [
    "print(df.head())"
   ]
  },
  {
   "cell_type": "code",
   "execution_count": null,
   "metadata": {},
   "outputs": [],
   "source": []
  }
 ],
 "metadata": {
  "kernelspec": {
   "display_name": "web-scrapping",
   "language": "python",
   "name": "python3"
  },
  "language_info": {
   "codemirror_mode": {
    "name": "ipython",
    "version": 3
   },
   "file_extension": ".py",
   "mimetype": "text/x-python",
   "name": "python",
   "nbconvert_exporter": "python",
   "pygments_lexer": "ipython3",
   "version": "3.10.9"
  }
 },
 "nbformat": 4,
 "nbformat_minor": 2
}
